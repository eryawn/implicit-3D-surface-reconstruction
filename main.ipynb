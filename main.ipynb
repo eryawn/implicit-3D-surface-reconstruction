{
 "cells": [
  {
   "cell_type": "markdown",
   "metadata": {},
   "source": [
    "This assignment revolves some experiments which take few minutes to finish calculation and plotting. I'm sure that the code works well and will output the appropriate results as expected. Please do not interrupt while it is running.<br/>\n",
    "Thank you!"
   ]
  },
  {
   "cell_type": "code",
   "execution_count": 29,
   "metadata": {
    "scrolled": true
   },
   "outputs": [],
   "source": [
    "import numpy as np\n",
    "import igl\n",
    "import meshplot as mp\n",
    "import math\n",
    "import time"
   ]
  },
  {
   "cell_type": "markdown",
   "metadata": {},
   "source": [
    "# Setting up the Constraints"
   ]
  },
  {
   "cell_type": "markdown",
   "metadata": {},
   "source": [
    "Define a function to retreive the index of the colosest point in _points_ to _p_ using brute-force for loop."
   ]
  },
  {
   "cell_type": "code",
   "execution_count": 30,
   "metadata": {},
   "outputs": [],
   "source": [
    "def find_closest_point(p, points):\n",
    "    closest_i = 0\n",
    "    min_val = 10000\n",
    "    for i in range(points.shape[0]):\n",
    "        d = np.linalg.norm(p - points[i])\n",
    "        if d < min_val:\n",
    "            min_val = d\n",
    "            closest_i = i\n",
    "    return closest_i"
   ]
  },
  {
   "cell_type": "markdown",
   "metadata": {},
   "source": [
    "# Implement a spatial index to accelerate neighbor calculations"
   ]
  },
  {
   "cell_type": "code",
   "execution_count": 31,
   "metadata": {},
   "outputs": [],
   "source": [
    "def set_newgrid(step, p):\n",
    "    mmax = np.max(p, axis = 0)\n",
    "    mmin = np.min(p, axis = 0)\n",
    "    dim = 1.1 * (mmax - mmin)\n",
    "    diag = np.linalg.norm(dim)\n",
    "    grid_step = step * diag\n",
    "    units_size = np.zeros(3)\n",
    "    units_size[0] = math.ceil(dim[0] / grid_step)\n",
    "    units_size[1] = math.ceil(dim[1] / grid_step)\n",
    "    units_size[2] = math.ceil(dim[2] / grid_step)\n",
    "    newgrid_size = int(np.prod(units_size))\n",
    "    newgrid = [[] for i in range(newgrid_size)]\n",
    "    \n",
    "    for i in range(p.shape[0]):\n",
    "        p_dist = np.zeros(3)\n",
    "        p_dist[0] = math.floor(((p[i] - mmin) / grid_step)[0])\n",
    "        p_dist[1] = math.floor(((p[i] - mmin) / grid_step)[1])\n",
    "        p_dist[2] = math.floor(((p[i] - mmin) / grid_step)[2])\n",
    "        index = int(p_dist[0] + units_size[0] * p_dist[1] + units_size[0] * units_size[1] * p_dist[2])\n",
    "        newgrid[index].append(i)\n",
    "    \n",
    "    return newgrid, units_size, grid_step"
   ]
  },
  {
   "cell_type": "markdown",
   "metadata": {},
   "source": [
    "To improve the efficiency by implementing a simple spatial index, we bin vertices into their enclosing grid cells and restrict the neighbor queries to visit only the grid cells that could possibly satisfy the query.<br/>\n",
    "Define a new method to accelerate neighbor calculations."
   ]
  },
  {
   "cell_type": "code",
   "execution_count": 32,
   "metadata": {},
   "outputs": [],
   "source": [
    "def find_closed_point(p, points, newgrid, units_size, grid_step):\n",
    "    closest_i = 0\n",
    "    min_val = 10000\n",
    "    mmin = np.min(points, axis = 0)\n",
    "    p_dist = np.zeros(3)\n",
    "    p_dist[0] = math.floor(((p - mmin) / grid_step)[0])\n",
    "    p_dist[1] = math.floor(((p - mmin) / grid_step)[1])\n",
    "    p_dist[2] = math.floor(((p - mmin) / grid_step)[2])\n",
    "\n",
    "    check_distance = 1\n",
    "    min_Block_offset_x = int(max(0, p_dist[0] - check_distance))\n",
    "    min_Block_offset_y = int(max(0, p_dist[1] - check_distance))\n",
    "    min_Block_offset_z = int(max(0, p_dist[2] - check_distance))\n",
    "    max_Block_offset_x = int(min(p_dist[0] + 1 + check_distance, units_size[0]))\n",
    "    max_Block_offset_y = int(min(p_dist[1] + 1 + check_distance, units_size[1]))\n",
    "    max_Block_offset_z = int(min(p_dist[2] + 1 + check_distance, units_size[2]))\n",
    "    \n",
    "    for i in range(min_Block_offset_x, max_Block_offset_x):\n",
    "        for j in range(min_Block_offset_y, max_Block_offset_y):\n",
    "            for k in range(min_Block_offset_z, max_Block_offset_z):\n",
    "                index = int(i + units_size[0] * j + units_size[0] * units_size[1] * k)\n",
    "                for q in range(len(newgrid[index])):\n",
    "                    distance = np.linalg.norm(p - points[newgrid[index][q]])\n",
    "                    if distance < min_val:\n",
    "                        closest_i = newgrid[index][q]\n",
    "                        min_val = distance\n",
    "    return closest_i"
   ]
  },
  {
   "cell_type": "markdown",
   "metadata": {},
   "source": [
    "Define a function to set up the constraints for the input point set."
   ]
  },
  {
   "cell_type": "code",
   "execution_count": 33,
   "metadata": {},
   "outputs": [],
   "source": [
    "def set_constraints(p, ni, newgrid, units_size, grid_step):\n",
    "    constrained_p = np.zeros((p.shape[0] * 3, 3))\n",
    "    constrained_v = np.zeros((p.shape[0] * 3))\n",
    "\n",
    "    size_p = p.shape[0]\n",
    "    diag = igl.bounding_box_diagonal(p)\n",
    "    eps = 0.01 * diag\n",
    "\n",
    "    for i in range(size_p):\n",
    "        constrained_p[i] = p[i]\n",
    "        constrained_v[i] = 0\n",
    "        constrained_p[i + size_p] = p[i] + eps * ni[i]\n",
    "        while find_closed_point(p[i] + eps * ni[i], p, newgrid, units_size, grid_step) != i:\n",
    "            eps *= 0.5\n",
    "        constrained_p[i + size_p] = p[i] + eps * ni[i]\n",
    "        constrained_v[i + size_p] = eps\n",
    "\n",
    "        eps = 0.01 * diag\n",
    "        constrained_p[i + 2 * size_p] = p[i] - eps * ni[i]\n",
    "        while find_closed_point(p[i] - eps * ni[i], p, newgrid, units_size, grid_step) != i:\n",
    "            eps *= 0.5\n",
    "        constrained_p[i + 2 * size_p] = p[i] - eps * ni[i]\n",
    "        constrained_v[i + 2 * size_p] = -eps \n",
    "    return constrained_p, constrained_v"
   ]
  },
  {
   "cell_type": "markdown",
   "metadata": {},
   "source": [
    "Read the cat point cloud."
   ]
  },
  {
   "cell_type": "code",
   "execution_count": 34,
   "metadata": {},
   "outputs": [],
   "source": [
    "pi, v = igl.read_triangle_mesh(\"data/cat.off\")\n",
    "pi /= 10\n",
    "ni = igl.per_vertex_normals(pi, v)"
   ]
  },
  {
   "cell_type": "markdown",
   "metadata": {},
   "source": [
    "Use the improved spatial search method to set up the constraints for the input point set.<br/> Display the constraints where the green, red and blue labels respectively correspond to inside, outside, and on the surface constructed by the point set."
   ]
  },
  {
   "cell_type": "code",
   "execution_count": 35,
   "metadata": {},
   "outputs": [
    {
     "name": "stdout",
     "output_type": "stream",
     "text": [
      "running time:268.1572437286377 ms\n"
     ]
    },
    {
     "data": {
      "application/vnd.jupyter.widget-view+json": {
       "model_id": "d6c3f9bdc0be431ab55806ba31ec16a2",
       "version_major": 2,
       "version_minor": 0
      },
      "text/plain": [
       "Renderer(camera=PerspectiveCamera(children=(DirectionalLight(color='white', intensity=0.6, position=(5.0, -23.…"
      ]
     },
     "metadata": {},
     "output_type": "display_data"
    },
    {
     "data": {
      "application/vnd.jupyter.widget-view+json": {
       "model_id": "949e66913968436e9faf5fdbede990db",
       "version_major": 2,
       "version_minor": 0
      },
      "text/plain": [
       "Renderer(camera=PerspectiveCamera(children=(DirectionalLight(color='white', intensity=0.6, position=(5.0120944…"
      ]
     },
     "metadata": {},
     "output_type": "display_data"
    },
    {
     "data": {
      "text/plain": [
       "<meshplot.Viewer.Viewer at 0x1128c16a0>"
      ]
     },
     "execution_count": 35,
     "metadata": {},
     "output_type": "execute_result"
    }
   ],
   "source": [
    "step = 0.1\n",
    "newgrid, units_size, grid_step = set_newgrid(step, pi)\n",
    "\n",
    "T1 = time.time()\n",
    "constrained_p, constrained_v = set_constraints(pi, ni, newgrid, units_size, grid_step)\n",
    "T2 = time.time()\n",
    "print('running time:%s ms' % ((T2 - T1)*1000))\n",
    "\n",
    "r = np.array([1, 0, 0])\n",
    "g = np.array([124/255, 252/255, 0])\n",
    "b = np.array([0, 0, 1])\n",
    "black = np.array([0, 0, 0])\n",
    "color_map = np.zeros(constrained_p.shape)\n",
    "for i in range(pi.shape[0]):\n",
    "    color_map[i] = b\n",
    "    color_map[i + pi.shape[0]] = r\n",
    "    color_map[i + 2 * pi.shape[0]] = g\n",
    "\n",
    "a = mp.plot(pi, c = np.zeros((pi.shape[0], 3)), shading={\"point_size\": 8})\n",
    "mp.plot(constrained_p, c = color_map, shading = {\"point_size\": 8})"
   ]
  },
  {
   "cell_type": "markdown",
   "metadata": {},
   "source": [
    "# Use MLS interpolation to extend to function _f_."
   ]
  },
  {
   "cell_type": "markdown",
   "metadata": {},
   "source": [
    "To improve the efficiency by implementing a simple spatial index, we bin vertices into their enclosing grid cells and restrict the neighbor queries to visit only the grid cells that could possibly satisfy the query.<br/>\n",
    "Define a new method to accelerate neighbor calculations."
   ]
  },
  {
   "cell_type": "code",
   "execution_count": 36,
   "metadata": {},
   "outputs": [],
   "source": [
    "def closest_points(p, points, h, newgrid, units_size, grid_step):\n",
    "    dist_index = []\n",
    "    mmin = np.min(points, axis = 0)\n",
    "    n_ori_points = int(points.shape[0] / 3)\n",
    "    p_dist = np.zeros(3)\n",
    "    p_dist[0] = math.floor(((p - mmin) / grid_step)[0])\n",
    "    p_dist[1] = math.floor(((p - mmin) / grid_step)[1])\n",
    "    p_dist[2] = math.floor(((p - mmin) / grid_step)[2])\n",
    "\n",
    "    check_distance = 1\n",
    "    min_Block_offset_x = int(max(0, p_dist[0] - check_distance))\n",
    "    min_Block_offset_y = int(max(0, p_dist[1] - check_distance))\n",
    "    min_Block_offset_z = int(max(0, p_dist[2] - check_distance))\n",
    "    max_Block_offset_x = int(min(p_dist[0] + 1 + check_distance, units_size[0]))\n",
    "    max_Block_offset_y = int(min(p_dist[1] + 1 + check_distance, units_size[1]))\n",
    "    max_Block_offset_z = int(min(p_dist[2] + 1 + check_distance, units_size[2]))\n",
    "    \n",
    "    for i in range(min_Block_offset_x, max_Block_offset_x):\n",
    "        for j in range(min_Block_offset_y, max_Block_offset_y):\n",
    "            for k in range(min_Block_offset_z, max_Block_offset_z):\n",
    "                index = int(i + units_size[0] * j + units_size[0] * units_size[1] * k)\n",
    "                for q in range(len(newgrid[index])):\n",
    "                    \n",
    "                    distance = np.linalg.norm(p - points[newgrid[index][q]])\n",
    "                    if distance < h:\n",
    "                        dist_index.append(newgrid[index][q])\n",
    "                        \n",
    "                    distance = np.linalg.norm(p - points[n_ori_points + newgrid[index][q]])\n",
    "                    if distance < h:\n",
    "                        dist_index.append(n_ori_points + newgrid[index][q])\n",
    "                        \n",
    "                    distance = np.linalg.norm(p - points[n_ori_points * 2 + newgrid[index][q]])\n",
    "                    if distance < h:\n",
    "                        dist_index.append(n_ori_points * 2 + newgrid[index][q])\n",
    "                    \n",
    "    return dist_index"
   ]
  },
  {
   "cell_type": "code",
   "execution_count": 37,
   "metadata": {},
   "outputs": [],
   "source": [
    "def wendland(r, h):\n",
    "    if (r < h):\n",
    "        return ((1 - r / h) ** 4) * (4 * r / h + 1)\n",
    "    else:\n",
    "        return 0"
   ]
  },
  {
   "cell_type": "code",
   "execution_count": 38,
   "metadata": {},
   "outputs": [],
   "source": [
    "def polynomial(grid_point, degree):\n",
    "    if degree == 0:\n",
    "        basis = np.array([1])\n",
    "    elif degree == 1:\n",
    "        basis = np.array([1, grid_point[0], grid_point[1], grid_point[2]])\n",
    "    elif degree == 2:\n",
    "        basis = np.array([1, grid_point[0], grid_point[1], grid_point[2], grid_point[0] * grid_point[1], \n",
    "                          grid_point[1] * grid_point[2], grid_point[0] * grid_point[2], \n",
    "                          grid_point[0] ** 2, grid_point[1] ** 2, grid_point[2] ** 2])\n",
    "    return basis"
   ]
  },
  {
   "cell_type": "code",
   "execution_count": 39,
   "metadata": {},
   "outputs": [],
   "source": [
    "def closest_points_brute(p, points, h):\n",
    "    dist_index = []\n",
    "    for i in range(points.shape[0]):\n",
    "        dist = np.linalg.norm(p - points[i])\n",
    "        if dist < h:\n",
    "            dist_index.append(i)\n",
    "    return dist_index"
   ]
  },
  {
   "cell_type": "code",
   "execution_count": 40,
   "metadata": {
    "scrolled": true
   },
   "outputs": [],
   "source": [
    "# Utility function to generate a tet grid\n",
    "# n is a 3-tuple with the number of cell in every direction\n",
    "# mmin/mmax are the grid bounding box corners\n",
    "\n",
    "def tet_grid(n, mmin, mmax):\n",
    "    nx = n[0]\n",
    "    ny = n[1]\n",
    "    nz = n[2]\n",
    "    \n",
    "    delta = mmax-mmin\n",
    "    \n",
    "    deltax = delta[0]/(nx-1)\n",
    "    deltay = delta[1]/(ny-1)\n",
    "    deltaz = delta[2]/(nz-1)\n",
    "    \n",
    "    T = np.zeros(((nx-1)*(ny-1)*(nz-1)*6, 4), dtype=np.int64)\n",
    "    V = np.zeros((nx*ny*nz, 3))\n",
    "\n",
    "    mapping = -np.ones((nx, ny, nz), dtype=np.int64)\n",
    "\n",
    "\n",
    "    index = 0\n",
    "    for i in range(nx):\n",
    "        for j in range(ny):\n",
    "            for k in range(nz):\n",
    "                mapping[i, j, k] = index\n",
    "                V[index, :] = [i*deltax, j*deltay, k*deltaz]\n",
    "                index += 1\n",
    "    assert(index == V.shape[0])\n",
    "    \n",
    "    tets = np.array([\n",
    "        [0,1,3,4],\n",
    "        [5,2,6,7],\n",
    "        [4,1,5,3],\n",
    "        [4,3,7,5],\n",
    "        [3,1,5,2],\n",
    "        [2,3,7,5]\n",
    "    ])\n",
    "    \n",
    "    \n",
    "    index = 0\n",
    "    for i in range(nx-1):\n",
    "        for j in range(ny-1):\n",
    "            for k in range(nz-1):\n",
    "                indices = [\n",
    "                    (i,   j,   k),\n",
    "                    (i+1, j,   k),\n",
    "                    (i+1, j+1, k),\n",
    "                    (i,   j+1, k),\n",
    "\n",
    "                    (i,   j,   k+1),\n",
    "                    (i+1, j,   k+1),\n",
    "                    (i+1, j+1, k+1),\n",
    "                    (i,   j+1, k+1),\n",
    "                ]\n",
    "                \n",
    "                for t in range(tets.shape[0]):\n",
    "                    tmp = [mapping[indices[ii]] for ii in tets[t, :]]\n",
    "                    T[index, :]=tmp\n",
    "                    index += 1\n",
    "                    \n",
    "    assert(index == T.shape[0])\n",
    "    \n",
    "    V += mmin\n",
    "    return V, T"
   ]
  },
  {
   "cell_type": "markdown",
   "metadata": {},
   "source": [
    "MLS interpolation method to construct an implicit function satisfying the constraints as nearly as possible. "
   ]
  },
  {
   "cell_type": "code",
   "execution_count": 41,
   "metadata": {},
   "outputs": [],
   "source": [
    "def evaluate_implicit_f(grid_point, wendlandRadius, poly_degree, constrained_points, \n",
    "                        constrained_values, newgrid, units_size, grid_step):\n",
    "    \n",
    "    indices_in_h = closest_points(grid_point, constrained_points, wendlandRadius, newgrid, units_size, grid_step)\n",
    "    indices_size = len(indices_in_h)\n",
    "    n_coef = 3 ** poly_degree + 1\n",
    "    if poly_degree == 0:\n",
    "        n_coef = 1\n",
    "    if(indices_size < n_coef * 2):\n",
    "        return 10000\n",
    "    else:\n",
    "        B = np.zeros((indices_size, n_coef))\n",
    "        W = np.eye(indices_size)\n",
    "        constrained_point = constrained_points[indices_in_h]\n",
    "        constrained_value = constrained_values[indices_in_h]\n",
    "        for i in range(indices_size):\n",
    "            B[i] = polynomial(constrained_point[i], poly_degree)\n",
    "            W[i, i] = wendland(np.linalg.norm(grid_point - constrained_point[i], 2), wendlandRadius)\n",
    "\n",
    "        ax = np.linalg.solve(((B.T).dot(W)).dot(B), ((B.T).dot(W)).dot(constrained_value))\n",
    "        return polynomial(grid_point, poly_degree).dot(ax)"
   ]
  },
  {
   "cell_type": "markdown",
   "metadata": {},
   "source": [
    "Create a regular volumetric grid around the point cloud: compute the axis-aligned bounding box of the point cloud, enlarge it slightly, and divide it into uniform cells (tets)."
   ]
  },
  {
   "cell_type": "code",
   "execution_count": 42,
   "metadata": {},
   "outputs": [],
   "source": [
    "bbox_max = np.max(pi, axis = 0)\n",
    "bbox_min = np.min(pi, axis = 0)\n",
    "bbox_diag = np.linalg.norm(bbox_max - bbox_min) \n",
    "res_x = 20\n",
    "res_y = 20\n",
    "res_z = 20\n",
    "grid_points, tet = tet_grid((res_x, res_y, res_z), bbox_min - 0.05 * bbox_diag, bbox_max + 0.05 * bbox_diag)"
   ]
  },
  {
   "cell_type": "markdown",
   "metadata": {},
   "source": [
    "Evaluate the MLS function at every node of a regular volumetric grid containing the input point cloud.<br/>\n",
    "The processing speed is way faster than using the point search method with brute-force for loop. We plot the grid points colored according to being inside or outside the input cloud."
   ]
  },
  {
   "cell_type": "code",
   "execution_count": 43,
   "metadata": {},
   "outputs": [
    {
     "data": {
      "application/vnd.jupyter.widget-view+json": {
       "model_id": "ae69f49c50d048fab40224735f7bd49e",
       "version_major": 2,
       "version_minor": 0
      },
      "text/plain": [
       "Renderer(camera=PerspectiveCamera(children=(DirectionalLight(color='white', intensity=0.6, position=(5.0, -23.…"
      ]
     },
     "metadata": {},
     "output_type": "display_data"
    },
    {
     "data": {
      "text/plain": [
       "<meshplot.Viewer.Viewer at 0x1129d9670>"
      ]
     },
     "execution_count": 43,
     "metadata": {},
     "output_type": "execute_result"
    }
   ],
   "source": [
    "polyDegree = 1\n",
    "wendlandRadius = bbox_diag * 0.1\n",
    "fx = np.array([evaluate_implicit_f(grid_point, wendlandRadius, polyDegree, constrained_p, constrained_v,\n",
    "                                   newgrid, units_size, grid_step) for grid_point in grid_points])\n",
    "\n",
    "ind = np.zeros_like(fx)\n",
    "ind[fx >= 0] = 1\n",
    "ind[fx < 0] = -1\n",
    "\n",
    "mp.plot(grid_points, c=ind, shading={\"point_size\": 4, \"width\": 800, \"height\": 800})"
   ]
  },
  {
   "cell_type": "markdown",
   "metadata": {},
   "source": [
    "# Using a non-axis-aligned grid"
   ]
  },
  {
   "cell_type": "markdown",
   "metadata": {},
   "source": [
    "The point cloud luigi.off is not aligned with the canonical axes. Running reconstruction on an axis-aligned grid is wasteful in this case: many of the grid points will lie far outside the object.<br/> Here we devise an automatic (and general) way to align the grid to the data and implement it using PCA."
   ]
  },
  {
   "cell_type": "code",
   "execution_count": 44,
   "metadata": {},
   "outputs": [],
   "source": [
    "def PCA(points):\n",
    "    mean = points - np.mean(points , axis = 0) \n",
    "    cov_mat = np.cov(mean, rowvar = False) \n",
    "    eigen_vals, eigenvectors = np.linalg.eig(cov_mat)     \n",
    "    index_sorted = np.argsort(eigen_vals)[::-1]\n",
    "    eigenvectors_sorted = eigenvectors[:,index_sorted]\n",
    "    return eigenvectors_sorted.transpose()"
   ]
  },
  {
   "cell_type": "markdown",
   "metadata": {},
   "source": [
    "Read the Luigi point cloud and make the transformation."
   ]
  },
  {
   "cell_type": "code",
   "execution_count": 45,
   "metadata": {},
   "outputs": [],
   "source": [
    "pi, v = igl.read_triangle_mesh(\"data/luigi.off\")\n",
    "pi /= 10\n",
    "ni = igl.per_vertex_normals(pi, v)"
   ]
  },
  {
   "cell_type": "code",
   "execution_count": 60,
   "metadata": {},
   "outputs": [
    {
     "data": {
      "application/vnd.jupyter.widget-view+json": {
       "model_id": "3046dafb4bb74ea7a930a90f1cf8dcb8",
       "version_major": 2,
       "version_minor": 0
      },
      "text/plain": [
       "Renderer(camera=PerspectiveCamera(children=(DirectionalLight(color='white', intensity=0.6, position=(1.1287999…"
      ]
     },
     "metadata": {},
     "output_type": "display_data"
    }
   ],
   "source": [
    "b = mp.plot(pi, c = np.zeros((pi.shape[0], 3)), shading={\"point_size\": 0.5})"
   ]
  },
  {
   "cell_type": "code",
   "execution_count": 46,
   "metadata": {},
   "outputs": [],
   "source": [
    "eigenvectors_sorted = PCA(pi)\n",
    "handle = np.array(((np.cos(np.pi/2), np.sin(np.pi/2), 0), (-np.sin(np.pi/2), np.cos(np.pi/2), 0), (0, 0, 1)))\n",
    "new_pi = np.array([handle.dot(eigenvectors_sorted.dot(i)) for i in pi])\n",
    "new_ni = np.array([handle.dot(eigenvectors_sorted.dot(i)) for i in ni])"
   ]
  },
  {
   "cell_type": "markdown",
   "metadata": {},
   "source": [
    "To improve the efficiency, we still use a spaial index to accelerate neighbor calculations. Because Luigi object has way more points than cat, it takes longer time to process the point set.<br/> We slightly modify the new grid unit step to accelerate the processing."
   ]
  },
  {
   "cell_type": "code",
   "execution_count": 47,
   "metadata": {},
   "outputs": [
    {
     "name": "stdout",
     "output_type": "stream",
     "text": [
      "running time:4326.792001724243 ms\n"
     ]
    }
   ],
   "source": [
    "step = 0.05\n",
    "newgrid, units_size, grid_step = set_newgrid(step, new_pi)\n",
    "\n",
    "T1 = time.time()\n",
    "constrained_p, constrained_v = set_constraints(new_pi, new_ni, newgrid, units_size, grid_step)\n",
    "T2 = time.time()\n",
    "print('running time:%s ms' % ((T2 - T1)*1000))"
   ]
  },
  {
   "cell_type": "code",
   "execution_count": 48,
   "metadata": {},
   "outputs": [],
   "source": [
    "bbox_max = np.max(new_pi, axis = 0)\n",
    "bbox_min = np.min(new_pi, axis = 0)\n",
    "bbox_diag = np.linalg.norm(bbox_max - bbox_min) \n",
    "res_x = 30\n",
    "res_y = 30\n",
    "res_z = 30\n",
    "grid_points, tet = tet_grid((res_x, res_y, res_z), bbox_min - 0.05 * bbox_diag, bbox_max + 0.05 * bbox_diag)"
   ]
  },
  {
   "cell_type": "markdown",
   "metadata": {},
   "source": [
    "We plot the grid with nodes colored according to their implicit function values."
   ]
  },
  {
   "cell_type": "code",
   "execution_count": 49,
   "metadata": {},
   "outputs": [
    {
     "name": "stdout",
     "output_type": "stream",
     "text": [
      "running time:64693.38893890381 ms\n"
     ]
    },
    {
     "data": {
      "application/vnd.jupyter.widget-view+json": {
       "model_id": "dd4297ad772d4a28ad59cb011a081e9c",
       "version_major": 2,
       "version_minor": 0
      },
      "text/plain": [
       "Renderer(camera=PerspectiveCamera(children=(DirectionalLight(color='white', intensity=0.6, position=(-1.726429…"
      ]
     },
     "metadata": {},
     "output_type": "display_data"
    },
    {
     "data": {
      "text/plain": [
       "<meshplot.Viewer.Viewer at 0x1129df5b0>"
      ]
     },
     "execution_count": 49,
     "metadata": {},
     "output_type": "execute_result"
    }
   ],
   "source": [
    "T1 = time.time()\n",
    "\n",
    "polyDegree = 1\n",
    "wendlandRadius = bbox_diag * 0.1\n",
    "fx = np.array([evaluate_implicit_f(grid_point, wendlandRadius, polyDegree, constrained_p, constrained_v,\n",
    "                                   newgrid, units_size, grid_step) for grid_point in grid_points])\n",
    "T2 = time.time()\n",
    "print('running time:%s ms' % ((T2 - T1)*1000))\n",
    "\n",
    "ind = np.zeros_like(fx)\n",
    "ind[fx >= 0] = 1\n",
    "ind[fx < 0] = -1\n",
    "\n",
    "mp.plot(grid_points, c=ind, shading={\"point_size\": 0.5, \"width\": 800, \"height\": 800})\n",
    "#mp.plot(grid_points, c=fx, shading={\"point_size\": 0.5, \"width\": 800, \"height\": 800})"
   ]
  },
  {
   "cell_type": "markdown",
   "metadata": {},
   "source": [
    "# Marching to extract surface"
   ]
  },
  {
   "cell_type": "markdown",
   "metadata": {},
   "source": [
    "We use marching tets to extract the zero isosurface from the grid, filter out the artefacts and keep the largest component. Combining with the previous parts, we display multiple output with different parameters. It could be observed that the surface becomes finer as the resolution increases and Wendland function radius decreases.<br/> \n",
    "For your convenience to run and mark, I do not set all of the experiments with very large resolutions except the first two ones with the resolutions (40, 40, 40) of Luigi and (40, 45, 40) of cat. Given below experiments, it could be seen that my code outputs the appropriate results as expected, and every parameter works well."
   ]
  },
  {
   "cell_type": "markdown",
   "metadata": {},
   "source": [
    "Luigi: resolution = (40,40,40), polydegree = 1, Wendland function radius = 0.1 box diagonal."
   ]
  },
  {
   "cell_type": "code",
   "execution_count": 50,
   "metadata": {},
   "outputs": [
    {
     "data": {
      "application/vnd.jupyter.widget-view+json": {
       "model_id": "2aaca633500e48429675c810b2658c3c",
       "version_major": 2,
       "version_minor": 0
      },
      "text/plain": [
       "Renderer(camera=PerspectiveCamera(children=(DirectionalLight(color='white', intensity=0.6, position=(-1.739532…"
      ]
     },
     "metadata": {},
     "output_type": "display_data"
    },
    {
     "data": {
      "text/plain": [
       "<meshplot.Viewer.Viewer at 0x1129d9f10>"
      ]
     },
     "execution_count": 50,
     "metadata": {},
     "output_type": "execute_result"
    }
   ],
   "source": [
    "sv, sf, _, _ = igl.marching_tets(grid_points, tet, fx, 0)\n",
    "\n",
    "f = igl.face_components(sf)\n",
    "components = []\n",
    "for i in range(f.shape[0]):\n",
    "    if f[i] not in components:\n",
    "        components.append(f[i])\n",
    "connected_components = np.zeros(len(components))\n",
    "for i in range(f.shape[0]):\n",
    "    connected_components[f[i]] += 1\n",
    "new_sf = sf[f == np.argmax(connected_components)]\n",
    "mp.plot(sv, new_sf, shading={\"wireframe\": True}) "
   ]
  },
  {
   "cell_type": "code",
   "execution_count": 51,
   "metadata": {},
   "outputs": [],
   "source": [
    "def extract_surface(obj_address, step, res_x, res_y, res_z, polyDegree, wendland_radius_rate, filter = True):\n",
    "    pi, v = igl.read_triangle_mesh(obj_address)\n",
    "    pi /= 10\n",
    "    ni = igl.per_vertex_normals(pi, v)   \n",
    "    newgrid, units_size, grid_step = set_newgrid(step, pi)\n",
    "    constrained_p, constrained_v = set_constraints(pi, ni, newgrid, units_size, grid_step)\n",
    "\n",
    "    bbox_max = np.max(pi, axis = 0)\n",
    "    bbox_min = np.min(pi, axis = 0)\n",
    "    bbox_diag = np.linalg.norm(bbox_max - bbox_min) \n",
    "    grid_points, tet = tet_grid((res_x, res_y, res_z), bbox_min - 0.05 * bbox_diag, bbox_max + 0.05 * bbox_diag)\n",
    "    \n",
    "    wendlandRadius = wendland_radius_rate * bbox_diag    \n",
    "    fx = np.array([evaluate_implicit_f(grid_point, wendlandRadius, polyDegree, constrained_p, constrained_v,\n",
    "                                   newgrid, units_size, grid_step) for grid_point in grid_points])\n",
    "\n",
    "    sv, sf, _, _ = igl.marching_tets(grid_points, tet, fx, 0)\n",
    "    if filter:\n",
    "        f = igl.face_components(sf)\n",
    "        components = []\n",
    "        for i in range(f.shape[0]):\n",
    "            if f[i] not in components:\n",
    "                components.append(f[i])\n",
    "        connected_components = np.zeros(len(components))\n",
    "        for i in range(f.shape[0]):\n",
    "            connected_components[f[i]] += 1\n",
    "        new_sf = sf[f == np.argmax(connected_components)]\n",
    "        mp.plot(sv, new_sf, shading={\"wireframe\": True})       \n",
    "    else:\n",
    "        mp.plot(sv, sf, shading={\"wireframe\": True})"
   ]
  },
  {
   "cell_type": "markdown",
   "metadata": {},
   "source": [
    "Cat: resolution = (40, 45, 40), polydegree = 1, Wendland function radius = 0.1 box diagonal."
   ]
  },
  {
   "cell_type": "code",
   "execution_count": 52,
   "metadata": {
    "scrolled": false
   },
   "outputs": [
    {
     "data": {
      "application/vnd.jupyter.widget-view+json": {
       "model_id": "6f97eb0ca6294e32a615775963cdefae",
       "version_major": 2,
       "version_minor": 0
      },
      "text/plain": [
       "Renderer(camera=PerspectiveCamera(children=(DirectionalLight(color='white', intensity=0.6, position=(6.2277507…"
      ]
     },
     "metadata": {},
     "output_type": "display_data"
    }
   ],
   "source": [
    "extract_surface(\"data/cat.off\", 0.06, 40, 45, 40, polyDegree = 1, wendland_radius_rate = 0.1, filter = True)"
   ]
  },
  {
   "cell_type": "markdown",
   "metadata": {},
   "source": [
    "Cat: resolution = (20,35,30), polydegree = 0, Wendland function radius = 0.1 box diagonal."
   ]
  },
  {
   "cell_type": "code",
   "execution_count": 53,
   "metadata": {},
   "outputs": [
    {
     "data": {
      "application/vnd.jupyter.widget-view+json": {
       "model_id": "32f638e5fdc64df38df45cebbfb33c40",
       "version_major": 2,
       "version_minor": 0
      },
      "text/plain": [
       "Renderer(camera=PerspectiveCamera(children=(DirectionalLight(color='white', intensity=0.6, position=(5.0034713…"
      ]
     },
     "metadata": {},
     "output_type": "display_data"
    }
   ],
   "source": [
    "extract_surface(\"data/cat.off\", 0.05, 20, 35, 30, polyDegree = 0, wendland_radius_rate = 0.1, filter = True)"
   ]
  },
  {
   "cell_type": "markdown",
   "metadata": {},
   "source": [
    "Cat: resolution = (20,30,35), polydegree = 2, Wendland function radius = 0.2 box diagonal."
   ]
  },
  {
   "cell_type": "code",
   "execution_count": 54,
   "metadata": {},
   "outputs": [
    {
     "data": {
      "application/vnd.jupyter.widget-view+json": {
       "model_id": "91880b0b1f254ab184ca5d750e47df43",
       "version_major": 2,
       "version_minor": 0
      },
      "text/plain": [
       "Renderer(camera=PerspectiveCamera(children=(DirectionalLight(color='white', intensity=0.6, position=(5.0, -23.…"
      ]
     },
     "metadata": {},
     "output_type": "display_data"
    }
   ],
   "source": [
    "extract_surface(\"data/cat.off\", 0.1, 20, 30, 35, polyDegree = 2, wendland_radius_rate = 0.2, filter = True)"
   ]
  },
  {
   "cell_type": "markdown",
   "metadata": {},
   "source": [
    "Cat: resolution = (25,30,25), polydegree = 1, Wendland function radius = 0.15 box diagonal."
   ]
  },
  {
   "cell_type": "code",
   "execution_count": 55,
   "metadata": {},
   "outputs": [
    {
     "data": {
      "application/vnd.jupyter.widget-view+json": {
       "model_id": "ed1596df406044afbd97910a36560aa8",
       "version_major": 2,
       "version_minor": 0
      },
      "text/plain": [
       "Renderer(camera=PerspectiveCamera(children=(DirectionalLight(color='white', intensity=0.6, position=(5.0264654…"
      ]
     },
     "metadata": {},
     "output_type": "display_data"
    }
   ],
   "source": [
    "extract_surface(\"data/cat.off\", 0.1, 25, 30, 25, polyDegree = 1, wendland_radius_rate = 0.15, filter = True)"
   ]
  }
 ],
 "metadata": {
  "kernelspec": {
   "display_name": "Python 3",
   "language": "python",
   "name": "python3"
  },
  "language_info": {
   "codemirror_mode": {
    "name": "ipython",
    "version": 3
   },
   "file_extension": ".py",
   "mimetype": "text/x-python",
   "name": "python",
   "nbconvert_exporter": "python",
   "pygments_lexer": "ipython3",
   "version": "3.9.2"
  }
 },
 "nbformat": 4,
 "nbformat_minor": 4
}
